{
 "cells": [
  {
   "cell_type": "markdown",
   "id": "ecb5e342-fdc7-47ea-a708-aa0e24c363df",
   "metadata": {
    "tags": []
   },
   "source": [
    "### Exercise 3 introduction notebook for coursera assessment"
   ]
  },
  {
   "cell_type": "markdown",
   "id": "c0b8c1c7-ac5c-41de-9c11-1036d027eda1",
   "metadata": {},
   "source": [
    "\n",
    "### Exercise 4 Some of the popular languages that Data Scientists use are: python, R, Scala"
   ]
  },
  {
   "cell_type": "markdown",
   "id": "3e84f999-0229-4a6d-b028-b3573952cf89",
   "metadata": {},
   "source": [
    "### Exercise 5 Some of the commonly used libraries used by Data Scientists include: nltk,pandas,sckitlearn  "
   ]
  },
  {
   "cell_type": "markdown",
   "id": "3c8ad069-30f0-484c-9758-2a2aefb24876",
   "metadata": {
    "tags": []
   },
   "source": [
    "### Data Science Tools\n",
    "| Tool           |\n",
    "|----------------|\n",
    "| **Python**     |\n",
    "| **R**    |\n",
    "| **Pandas**     |\n",
    "| **Jupyter Notebook** |\n",
    "| **TensorFlow** |\n",
    "| **PyTorch**    |\n",
    "| **scikit-learn** |\n",
    "| **NumPy**      |\n",
    "| **Matplotlib** |\n",
    "| **Seaborn**    |\n",
    "| **Plotly**     |\n"
   ]
  },
  {
   "cell_type": "markdown",
   "id": "27948c87-d80b-4cec-81a7-5a1849290f65",
   "metadata": {
    "tags": []
   },
   "source": [
    "### Below are a few examples of evaluating arithmetic expressions in Python\n",
    "\n",
    "1. **Addition**: Adding two numbers together.\n",
    "5+4\n",
    "2. **Subtraction**: Subtracting one number from another.\n",
    "5-4\n"
   ]
  },
  {
   "cell_type": "code",
   "execution_count": 21,
   "id": "5b3c1b58-0d08-4cb9-8d04-f2dfcf1ed0b0",
   "metadata": {
    "tags": []
   },
   "outputs": [
    {
     "name": "stdout",
     "output_type": "stream",
     "text": [
      "17\n"
     ]
    }
   ],
   "source": [
    "#This is a simple expression to multiple and then add integers\n",
    "a=3\n",
    "b=4\n",
    "c=5\n",
    "multiplication=a*b\n",
    "addition= multiplication+c\n",
    "print(addition)"
   ]
  },
  {
   "cell_type": "code",
   "execution_count": 17,
   "id": "be086ae6-772d-4ce0-94ff-985be91a4624",
   "metadata": {
    "tags": []
   },
   "outputs": [
    {
     "name": "stdout",
     "output_type": "stream",
     "text": [
      "20 minutes is equal to 0.3333333333333333 hours.\n"
     ]
    }
   ],
   "source": [
    "# Convert minutes to hours\n",
    "minutes = 20\n",
    "hours = minutes / 60\n",
    "\n",
    "print(f\"{minutes} minutes is equal to {hours} hours.\")"
   ]
  },
  {
   "cell_type": "markdown",
   "id": "c3425e2e-6807-4a07-983c-9e8a4dab23f0",
   "metadata": {
    "tags": []
   },
   "source": [
    "## **Objectives**\n",
    "\n",
    "- Understand the fundamentals of arithmetic expressions.\n",
    "- Learn to convert units, such as minutes to hours.\n",
    "- Practice using Markdown syntax effectively in Jupyter Notebook.\n"
   ]
  },
  {
   "cell_type": "markdown",
   "id": "aed17922-f789-49ab-b522-f83563ccef9e",
   "metadata": {
    "tags": []
   },
   "source": [
    "## Author\n",
    "**Ratul Mitra**\n"
   ]
  }
 ],
 "metadata": {
  "kernelspec": {
   "display_name": "Python",
   "language": "python",
   "name": "conda-env-python-py"
  },
  "language_info": {
   "codemirror_mode": {
    "name": "ipython",
    "version": 3
   },
   "file_extension": ".py",
   "mimetype": "text/x-python",
   "name": "python",
   "nbconvert_exporter": "python",
   "pygments_lexer": "ipython3",
   "version": "3.7.12"
  }
 },
 "nbformat": 4,
 "nbformat_minor": 5
}
